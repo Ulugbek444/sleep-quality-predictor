{
 "cells": [
  {
   "cell_type": "code",
   "execution_count": 148,
   "id": "initial_id",
   "metadata": {
    "collapsed": true,
    "ExecuteTime": {
     "end_time": "2025-10-11T14:42:07.435064400Z",
     "start_time": "2025-10-11T14:42:07.270598200Z"
    }
   },
   "outputs": [],
   "source": [
    "import os\n",
    "import mlflow\n",
    "import pandas as pd\n",
    "from sklearn.preprocessing import StandardScaler\n",
    "import numpy as np\n",
    "df = pd.read_csv(\"../data/processed_data/survey_lung_cancer_clean.csv\")"
   ]
  },
  {
   "cell_type": "code",
   "execution_count": 149,
   "outputs": [],
   "source": [
    "mlflow.sklearn.autolog(disable=True) # Отключаем автологирование для избежания конфликтов\n",
    "os.environ['USER'] = \"Ulugbek Tursunkulov\""
   ],
   "metadata": {
    "collapsed": false,
    "ExecuteTime": {
     "end_time": "2025-10-11T14:42:07.453324400Z",
     "start_time": "2025-10-11T14:42:07.443768100Z"
    }
   },
   "id": "cafd2970b83ffd5a"
  },
  {
   "cell_type": "markdown",
   "source": [],
   "metadata": {
    "collapsed": false
   },
   "id": "651bd76ad2096b78"
  },
  {
   "cell_type": "code",
   "execution_count": 150,
   "outputs": [
    {
     "data": {
      "text/plain": "<Experiment: artifact_location='file:///C:/Users/Asus/Desktop/lung_cancer/reports/ml_flow_service/artefacts/890502249313353174', creation_time=1760192483745, experiment_id='890502249313353174', last_update_time=1760192483745, lifecycle_stage='active', name='Lung_cancer', tags={'mlflow.experimentKind': 'custom_model_development'}>"
     },
     "execution_count": 150,
     "metadata": {},
     "output_type": "execute_result"
    }
   ],
   "source": [
    "mlflow.set_tracking_uri(\"http://localhost:5000\")\n",
    "mlflow.set_experiment(\"Lung_cancer\")"
   ],
   "metadata": {
    "collapsed": false,
    "ExecuteTime": {
     "end_time": "2025-10-11T14:42:07.619688900Z",
     "start_time": "2025-10-11T14:42:07.459844200Z"
    }
   },
   "id": "bcb4aeabe7affb06"
  },
  {
   "cell_type": "code",
   "execution_count": 150,
   "outputs": [],
   "source": [],
   "metadata": {
    "collapsed": false,
    "ExecuteTime": {
     "end_time": "2025-10-11T14:42:07.619688900Z",
     "start_time": "2025-10-11T14:42:07.619688900Z"
    }
   },
   "id": "17613f89554e324"
  },
  {
   "cell_type": "code",
   "execution_count": 151,
   "outputs": [],
   "source": [
    "import time\n",
    "from importlib.metadata import version\n",
    "import seaborn as sns\n",
    "import matplotlib.pyplot as plt\n",
    "from mlflow.models import infer_signature\n",
    "from sklearn.metrics import roc_auc_score, make_scorer, f1_score, precision_score, recall_score, accuracy_score\n",
    "from sklearn.metrics import RocCurveDisplay, PrecisionRecallDisplay, ConfusionMatrixDisplay\n",
    "from sklearn.pipeline import Pipeline\n",
    "from sklearn.model_selection import GridSearchCV\n",
    "\n",
    "def run_experiment(model_name, model_class, run_name, \n",
    "                   grid_param, x_tr, y_tr, x_vl, y_vl, x_te, y_te, scaler=False, mix=False, \n",
    "                   register_model=True, model_registry_name=None):\n",
    "    with mlflow.start_run(run_name=run_name):\n",
    "        \n",
    "        mlflow.log_param(\"sklearn_version\", version(\"scikit-learn\"))\n",
    "        mlflow.log_param(\"timestamp\", time.strftime(\"%Y-%m-%d %H:%M:%S\"))\n",
    "        \n",
    "        mlflow.log_param(\"model_name\", model_name)\n",
    "        mlflow.log_param(\"train_size\", len(x_tr))\n",
    "        mlflow.log_param(\"valid_size\", len(x_vl))\n",
    "        mlflow.log_param(\"test_size\", len(x_te))\n",
    "        \n",
    "        steps = []\n",
    "        if scaler:\n",
    "            steps.append(('scaler', StandardScaler()))\n",
    "            \n",
    "        steps.append(('model', model_class()))\n",
    "        pipeline = Pipeline(steps)\n",
    "        \n",
    "        grid = GridSearchCV(\n",
    "            estimator=pipeline,\n",
    "            param_grid=grid_param,\n",
    "            scoring=make_scorer(f1_score, average='macro'),\n",
    "            cv=5,\n",
    "            n_jobs=-1,\n",
    "            verbose=1\n",
    "        )\n",
    "        \n",
    "        grid.fit(x_tr, y_tr)\n",
    "        best_model = grid.best_estimator_\n",
    "        mlflow.log_params(grid.best_params_)\n",
    "        \n",
    "        #TODO: Validation\n",
    "        print(\"Validation of model...\")\n",
    "        y_valid_pred = best_model.predict(x_vl)\n",
    "        y_valid_prob = best_model.predict_proba(x_vl)[:, 1]\n",
    "        \n",
    "        metrics_valid = {\n",
    "            \"accuracy_valid\": accuracy_score(y_vl, y_valid_pred),\n",
    "            \"precision_valid\": precision_score(y_vl, y_valid_pred, average=\"macro\"),\n",
    "            \"recall_valid\": recall_score(y_vl, y_valid_pred, average=\"macro\"),\n",
    "            \"f1_score_valid\": f1_score(y_vl, y_valid_pred, average=\"macro\"),\n",
    "            \"roc_auc_valid\": roc_auc_score(y_vl, y_valid_prob)\n",
    "        }\n",
    "        print(\"=== Validation Metrics ===\")\n",
    "        print(classification_report(y_vl, y_valid_pred))\n",
    "        mlflow.log_metrics(metrics_valid)\n",
    "         \n",
    "        _save_confusion_matrix(y_vl, y_valid_pred, run_name, \"valid\")\n",
    "        _save_roc_curve(y_vl, y_valid_prob, run_name, \"valid\")\n",
    "        _save_precision_recall_curve(y_vl, y_valid_prob, run_name, \"valid\")\n",
    "        \n",
    "        #TODO: Объединение Train + Valid\n",
    "        \n",
    "        if mix:\n",
    "            print(\"Переобучение на объединенных данных (train + valid)...\")\n",
    "            x_train_full = np.vstack([x_tr, x_vl])\n",
    "            y_train_full = np.concatenate([y_tr, y_vl])\n",
    "            # Создаем новую модель с теми же параметрами\n",
    "            last_model = Pipeline(steps)\n",
    "            last_model.set_params(**grid.best_params_)\n",
    "            last_model.fit(x_train_full, y_train_full)\n",
    "\n",
    "            mlflow.log_param(\"train_used\", \"train+valid\")\n",
    "        else:\n",
    "            last_model = best_model  # если не объединяем, используем модель как есть\n",
    "            mlflow.log_param(\"train_used\", \"train_only\")\n",
    "        \n",
    "        #TODO Final Test\n",
    "        print(\"Тестирование финальной модели...\")\n",
    "        y_test_pred = last_model.predict(x_te)\n",
    "        y_test_prob = last_model.predict_proba(x_te)[:, 1]\n",
    "        \n",
    "        metrics_test = {\n",
    "            \"accuracy_test\": accuracy_score(y_te, y_test_pred),\n",
    "            \"precision_test\": precision_score(y_te, y_test_pred, average=\"macro\"),\n",
    "            \"recall_test\": recall_score(y_te, y_test_pred, average=\"macro\"),\n",
    "            \"f1_score_test\": f1_score(y_te, y_test_pred, average=\"macro\"),\n",
    "            \"roc_auc_test\": roc_auc_score(y_te, y_test_prob)\n",
    "        }\n",
    "        print(\"=== Test Metrics ===\")\n",
    "        print(classification_report(y_te, y_test_pred))\n",
    "        mlflow.log_metrics(metrics_test)\n",
    "        \n",
    "        signature = infer_signature(x_tr, best_model.predict(x_tr))\n",
    "        mlflow.sklearn.log_model(\n",
    "        sk_model=last_model,\n",
    "        name=\"model\",\n",
    "        signature=signature,\n",
    "        input_example=x_tr[:5],  # Sample input for documentation\n",
    "        )\n",
    "        \n",
    "        if register_model:\n",
    "            try:\n",
    "                # Получаем текущий run_id\n",
    "                run_id = mlflow.active_run().info.run_id\n",
    "                \n",
    "                # Определяем имя модели в реестре\n",
    "                if model_registry_name is None:\n",
    "                    model_registry_name = f\"{model_name}_LungCancer\"\n",
    "                \n",
    "                # Регистрируем модель в Model Registry\n",
    "                model_uri = f\"runs:/{run_id}/model\"\n",
    "                model_version = mlflow.register_model(\n",
    "                    model_uri=model_uri,\n",
    "                    name=model_registry_name,\n",
    "                    tags={\n",
    "                        \"model_type\": model_name,\n",
    "                        \"experiment_date\": time.strftime(\"%Y-%m-%d\"),\n",
    "                        \"data_preprocessing\": \"scaler\" if scaler else \"no_scaler\",\n",
    "                        \"training_strategy\": \"train+valid\" if mix else \"train_only\",\n",
    "                        \"f1_score_test\": f\"{metrics_test['f1_score_test']:.4f}\",\n",
    "                        \"roc_auc_test\": f\"{metrics_test['roc_auc_test']:.4f}\"\n",
    "                    }\n",
    "                )\n",
    "                \n",
    "                print(f\"✅ Модель зарегистрирована в Model Registry:\")\n",
    "                print(f\"   Имя: {model_registry_name}\")\n",
    "                print(f\"   Версия: {model_version.version}\")\n",
    "                print(f\"   URI: {model_uri}\")\n",
    "                \n",
    "                # Логируем информацию о версии модели\n",
    "                mlflow.log_param(\"model_registry_name\", model_registry_name)\n",
    "                mlflow.log_param(\"model_version\", model_version.version)\n",
    "                \n",
    "                # Автоматически переводим модель в статус \"Staging\" если метрики хорошие\n",
    "                if metrics_test['f1_score_test'] > 0.8 and metrics_test['roc_auc_test'] > 0.8:\n",
    "                    client = mlflow.tracking.MlflowClient()\n",
    "                    client.transition_model_version_stage(\n",
    "                        name=model_registry_name,\n",
    "                        version=model_version.version,\n",
    "                        stage=\"Staging\"\n",
    "                    )\n",
    "                    print(f\"🚀 Модель переведена в статус 'Staging' (хорошие метрики)\")\n",
    "                \n",
    "                return last_model, metrics_valid, metrics_test, model_version\n",
    "                \n",
    "            except Exception as e:\n",
    "                print(f\"⚠️ Ошибка при регистрации модели: {e}\")\n",
    "                print(\"Модель сохранена как артефакт, но не зарегистрирована в реестре\")\n",
    "        \n",
    "        # Логируем данные\n",
    "        try:\n",
    "            mlflow.log_artifact(\"../data/processed_data/survey_lung_cancer_clean.csv\")\n",
    "        except Exception as e:\n",
    "            print(f\"Предупреждение: не удалось залогировать файл данных: {e}\")\n",
    "            \n",
    "        print(\"Эксперимент завершен успешно!\")\n",
    "        return last_model, metrics_valid, metrics_test, None\n",
    "    "
   ],
   "metadata": {
    "collapsed": false,
    "ExecuteTime": {
     "end_time": "2025-10-11T14:42:07.676700400Z",
     "start_time": "2025-10-11T14:42:07.660979800Z"
    }
   },
   "id": "c9cdc7b59b76d24b"
  },
  {
   "cell_type": "code",
   "execution_count": null,
   "outputs": [],
   "source": [
    "def _save_confusion_matrix(y_true, y_pred, run_name, dataset_type):\n",
    "        \"\"\"Сохраняет матрицу ошибок\"\"\"\n",
    "        try:\n",
    "            ConfusionMatrixDisplay.from_predictions(\n",
    "                y_true, y_pred, \n",
    "                display_labels=[\"No Cancer\", \"Cancer\"],\n",
    "                cmap=plt.cm.Blues\n",
    "            )\n",
    "            plt.title(f\"Confusion Matrix: {run_name} ({dataset_type})\")\n",
    "            cm_path = f\"../reports/figures/conf_matrix/conf_matrix_{run_name}_{dataset_type}.png\"\n",
    "            plt.savefig(cm_path, dpi=100, bbox_inches='tight')\n",
    "            mlflow.log_artifact(cm_path)\n",
    "            plt.close()\n",
    "        except Exception as e:\n",
    "            print(f\"Предупреждение: не удалось сохранить матрицу ошибок: {e}\")"
   ],
   "metadata": {
    "collapsed": false
   },
   "id": "64e18ea548480f02"
  },
  {
   "cell_type": "code",
   "execution_count": null,
   "outputs": [],
   "source": [
    "def _save_roc_curve(y_true, y_prob, run_name, dataset_type):\n",
    "        \"\"\"Сохраняет ROC кривую\"\"\"\n",
    "        try:\n",
    "            RocCurveDisplay.from_predictions(y_true, y_prob)\n",
    "            plt.title(f\"ROC Curve: {run_name} ({dataset_type})\")\n",
    "            roc_path = f\"../reports/figures/roc_auc/roc_auc_{run_name}_{dataset_type}.png\"\n",
    "            plt.savefig(roc_path, dpi=100, bbox_inches='tight')\n",
    "            mlflow.log_artifact(roc_path)\n",
    "            plt.close()\n",
    "        except Exception as e:\n",
    "            print(f\"Предупреждение: не удалось сохранить ROC кривую: {e}\")"
   ],
   "metadata": {
    "collapsed": false
   },
   "id": "135a747bb233841b"
  },
  {
   "cell_type": "code",
   "execution_count": null,
   "outputs": [],
   "source": [
    "def _save_precision_recall_curve(y_true, y_prob, run_name, dataset_type):\n",
    "        \"\"\"Сохраняет Precision-Recall кривую\"\"\"\n",
    "        try:\n",
    "            PrecisionRecallDisplay.from_predictions(y_true, y_prob)\n",
    "            plt.title(f\"Precision-Recall Curve: {run_name} ({dataset_type})\")\n",
    "            pr_path = f\"../reports/figures/prec_recall/prec_recall_{run_name}_{dataset_type}.png\"\n",
    "            plt.savefig(pr_path, dpi=100, bbox_inches='tight')\n",
    "            mlflow.log_artifact(pr_path)\n",
    "            plt.close()\n",
    "        except Exception as e:\n",
    "            print(f\"Предупреждение: не удалось сохранить Precision-Recall кривую: {e}\")"
   ],
   "metadata": {
    "collapsed": false
   },
   "id": "2b6b65066c3f9647"
  },
  {
   "cell_type": "code",
   "execution_count": 152,
   "outputs": [],
   "source": [
    "from imblearn.over_sampling import RandomOverSampler\n",
    "\n",
    "def oversample_dataset(dataframe, oversample=False):\n",
    "    x = dataframe[dataframe.columns[:-1]].values\n",
    "    y = dataframe[dataframe.columns[-1]].values\n",
    "    \n",
    "    if oversample:\n",
    "        print(\"Oversampling ACTIVATED ✅\")\n",
    "        ros = RandomOverSampler(random_state=40)\n",
    "        x, y = ros.fit_resample(x, y)\n",
    "    else:\n",
    "        print(\"Oversampling skipped ❌\")\n",
    "    data =np.hstack((x, np.reshape(y, (-1, 1)))) \n",
    "    return data, x, y"
   ],
   "metadata": {
    "collapsed": false,
    "ExecuteTime": {
     "end_time": "2025-10-11T14:42:07.692391400Z",
     "start_time": "2025-10-11T14:42:07.676700400Z"
    }
   },
   "id": "88111ce33133c33f"
  },
  {
   "cell_type": "code",
   "execution_count": 153,
   "outputs": [
    {
     "name": "stderr",
     "output_type": "stream",
     "text": [
      "C:\\Users\\Asus\\Desktop\\lung_cancer\\lung_canc\\Lib\\site-packages\\numpy\\_core\\fromnumeric.py:57: FutureWarning: 'DataFrame.swapaxes' is deprecated and will be removed in a future version. Please use 'DataFrame.transpose' instead.\n",
      "  return bound(*args, **kwds)\n"
     ]
    }
   ],
   "source": [
    "train, valid, test = np.split(df.sample(frac=1,random_state=40), [int(0.6*len(df)), int(0.8*len(df))]\n",
    ")\n",
    "train_orig = train.copy()\n",
    "valid_orig = valid.copy()\n",
    "test_orig  = test.copy()"
   ],
   "metadata": {
    "collapsed": false,
    "ExecuteTime": {
     "end_time": "2025-10-11T14:42:07.749747300Z",
     "start_time": "2025-10-11T14:42:07.685717100Z"
    }
   },
   "id": "670ee1ef01f0b285"
  },
  {
   "cell_type": "code",
   "execution_count": 154,
   "outputs": [
    {
     "name": "stdout",
     "output_type": "stream",
     "text": [
      "166\n",
      "19\n"
     ]
    }
   ],
   "source": [
    "print(len(train[train[\"LUNG_CANCER\"] == 1])) #gamma\n",
    "print(len(train[train[\"LUNG_CANCER\"] == 0])) #gamma"
   ],
   "metadata": {
    "collapsed": false,
    "ExecuteTime": {
     "end_time": "2025-10-11T14:42:07.755434200Z",
     "start_time": "2025-10-11T14:42:07.753744200Z"
    }
   },
   "id": "9d6c7a71163aba7e"
  },
  {
   "cell_type": "code",
   "execution_count": 155,
   "outputs": [
    {
     "name": "stdout",
     "output_type": "stream",
     "text": [
      "Oversampling ACTIVATED ✅\n",
      "Oversampling skipped ❌\n",
      "Oversampling skipped ❌\n"
     ]
    }
   ],
   "source": [
    "train, X_train, y_train = oversample_dataset(train_orig, oversample=True)\n",
    "valid, X_valid, y_valid = oversample_dataset(valid_orig, oversample=False)\n",
    "test, X_test, y_test = oversample_dataset(test_orig, oversample=False)   "
   ],
   "metadata": {
    "collapsed": false,
    "ExecuteTime": {
     "end_time": "2025-10-11T14:42:07.807391200Z",
     "start_time": "2025-10-11T14:42:07.755434200Z"
    }
   },
   "id": "aa8d59af498def09"
  },
  {
   "cell_type": "code",
   "execution_count": 156,
   "outputs": [],
   "source": [
    "# from sklearn.neighbors import  KNeighborsClassifier\n",
    "# from sklearn.metrics import classification_report\n",
    "# \n",
    "# param_grid = {\n",
    "#     'knn__n_neighbors': [3, 5, 7, 9, 11],              # количество соседей\n",
    "#     'knn__weights': ['uniform', 'distance'],           # веса\n",
    "#     'knn__metric': ['euclidean', 'manhattan'],         # метрика\n",
    "#     'knn__p': [1, 2],                                  # степень метрики Minkowski\n",
    "#     'knn__algorithm': ['auto', 'kd_tree', 'ball_tree'] # способ поиска соседей\n",
    "# }\n",
    "# \n",
    "# best_knn, y_pred = run_experiment(\"KNN\", \"KNN_grid_search_oversample\", param_grid, X_train, y_train, X_test, y_test)\n"
   ],
   "metadata": {
    "collapsed": false,
    "ExecuteTime": {
     "end_time": "2025-10-11T14:42:07.814017100Z",
     "start_time": "2025-10-11T14:42:07.807391200Z"
    }
   },
   "id": "a64c8153204fb5bf"
  },
  {
   "cell_type": "code",
   "execution_count": 157,
   "outputs": [],
   "source": [
    "# from sklearn.naive_bayes import GaussianNB\n",
    "# def experiment_nb(run_name, x_tr, y_tr, x_te, y_te):\n",
    "#     model = GaussianNB()\n",
    "#     return run_experiment(\"GaussianNB\", run_name, param_grid, x_tr, y_tr, x_te, y_te)"
   ],
   "metadata": {
    "collapsed": false,
    "ExecuteTime": {
     "end_time": "2025-10-11T14:42:07.819472900Z",
     "start_time": "2025-10-11T14:42:07.817572100Z"
    }
   },
   "id": "895c06130ebedfcd"
  },
  {
   "cell_type": "code",
   "execution_count": 158,
   "outputs": [
    {
     "name": "stdout",
     "output_type": "stream",
     "text": [
      "Fitting 5 folds for each of 6 candidates, totalling 30 fits\n"
     ]
    },
    {
     "name": "stderr",
     "output_type": "stream",
     "text": [
      "2025/10/11 16:42:37 INFO mlflow.sklearn.utils: Logging the 5 best runs, one run will be omitted.\n"
     ]
    },
    {
     "name": "stdout",
     "output_type": "stream",
     "text": [
      "=== Validation Metrics ===\n",
      "              precision    recall  f1-score   support\n",
      "\n",
      "           0       0.67      0.60      0.63        10\n",
      "           1       0.92      0.94      0.93        52\n",
      "\n",
      "    accuracy                           0.89        62\n",
      "   macro avg       0.80      0.77      0.78        62\n",
      "weighted avg       0.88      0.89      0.88        62\n"
     ]
    },
    {
     "name": "stderr",
     "output_type": "stream",
     "text": [
      "2025/10/11 16:46:46 WARNING mlflow.utils.autologging_utils: Encountered unexpected error during sklearn autologging: The following failures occurred while performing one or more logging operations: [MlflowException('Failed to perform one or more operations on the run with ID 03ab81e0cfb0471c854a69177896dbdc. Failed operations: [MlflowException(\"API request to http://localhost:5000/api/2.0/mlflow/runs/log-batch failed with exception HTTPConnectionPool(host=\\'localhost\\', port=5000): Max retries exceeded with url: /api/2.0/mlflow/runs/log-batch (Caused by ResponseError(\\'too many 500 error responses\\'))\")]')]\n"
     ]
    },
    {
     "name": "stdout",
     "output_type": "stream",
     "text": [
      "=== Test Metrics ===\n",
      "              precision    recall  f1-score   support\n",
      "\n",
      "           0       0.62      0.80      0.70        10\n",
      "           1       0.96      0.90      0.93        52\n",
      "\n",
      "    accuracy                           0.89        62\n",
      "   macro avg       0.79      0.85      0.81        62\n",
      "weighted avg       0.90      0.89      0.89        62\n",
      "🏃 View run GaussianNB_oversample_scaler_mix at: http://localhost:5000/#/experiments/890502249313353174/runs/03ab81e0cfb0471c854a69177896dbdc\n",
      "🧪 View experiment at: http://localhost:5000/#/experiments/890502249313353174\n"
     ]
    }
   ],
   "source": [
    "from sklearn.naive_bayes import GaussianNB\n",
    "param_grid = {\n",
    "    'model__var_smoothing': [1e-12, 1e-10, 1e-9, 1e-8, 1e-7, 1e-6]\n",
    "}\n",
    "\n",
    "final_model, metrics_of_valid, metrics_of_test = run_experiment(\n",
    "    model_name=\"GNB\",          # имя модели\n",
    "    model_class=GaussianNB,    # класс модели\n",
    "    run_name=\"GaussianNB_oversample_scaler_mix\",\n",
    "    grid_param=param_grid,\n",
    "    x_tr=X_train,\n",
    "    y_tr=y_train,\n",
    "    x_vl=X_valid,\n",
    "    y_vl=y_valid,\n",
    "    x_te=X_test,\n",
    "    y_te=y_test,\n",
    "    scaler=True,\n",
    "    mix=True                  # Train + valid \n",
    ")\n"
   ],
   "metadata": {
    "collapsed": false,
    "ExecuteTime": {
     "end_time": "2025-10-11T14:46:52.289421200Z",
     "start_time": "2025-10-11T14:42:07.819472900Z"
    }
   },
   "id": "5503e9b4ea573f17"
  },
  {
   "cell_type": "markdown",
   "source": [],
   "metadata": {
    "collapsed": false
   },
   "id": "f013fcf8ef0693c5"
  }
 ],
 "metadata": {
  "kernelspec": {
   "display_name": "Python 3",
   "language": "python",
   "name": "python3"
  },
  "language_info": {
   "codemirror_mode": {
    "name": "ipython",
    "version": 2
   },
   "file_extension": ".py",
   "mimetype": "text/x-python",
   "name": "python",
   "nbconvert_exporter": "python",
   "pygments_lexer": "ipython2",
   "version": "2.7.6"
  }
 },
 "nbformat": 4,
 "nbformat_minor": 5
}
