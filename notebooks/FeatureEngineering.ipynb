{
 "cells": [
  {
   "cell_type": "code",
   "execution_count": 34,
   "id": "initial_id",
   "metadata": {
    "collapsed": true,
    "ExecuteTime": {
     "end_time": "2025-10-16T13:51:23.090367700Z",
     "start_time": "2025-10-16T13:51:23.064896900Z"
    }
   },
   "outputs": [],
   "source": [
    "import os\n",
    "import pandas as pd\n",
    "import numpy as np\n",
    "from sklearn.preprocessing import StandardScaler\n",
    "df = pd.read_csv(\"../Data/processed_data/Sleep_Efficiency_clear_yes_collinearity_forXG_RF_NO_REM.csv\")\n",
    "data = df.copy(deep=True)"
   ]
  },
  {
   "cell_type": "code",
   "execution_count": 35,
   "outputs": [
    {
     "data": {
      "text/plain": "Alcohol_consumption\n0.0    260\n1.0     54\n3.0     48\n2.0     37\n5.0     30\n4.0     23\nName: count, dtype: int64"
     },
     "execution_count": 35,
     "metadata": {},
     "output_type": "execute_result"
    }
   ],
   "source": [
    "data['Alcohol_consumption'].value_counts()"
   ],
   "metadata": {
    "collapsed": false,
    "ExecuteTime": {
     "end_time": "2025-10-16T13:51:23.165644300Z",
     "start_time": "2025-10-16T13:51:23.071744500Z"
    }
   },
   "id": "57776489e2d9a8fc"
  },
  {
   "cell_type": "code",
   "execution_count": 36,
   "outputs": [
    {
     "name": "stdout",
     "output_type": "stream",
     "text": [
      "   Age  Gender  Sleep_duration  Awakenings  Caffeine_consumption  \\\n",
      "0   65       0             6.0         0.0                   0.0   \n",
      "1   69       1             7.0         3.0                   0.0   \n",
      "2   40       0             8.0         1.0                   0.0   \n",
      "3   40       0             6.0         3.0                  50.0   \n",
      "4   57       1             8.0         3.0                   0.0   \n",
      "\n",
      "   Alcohol_consumption  Smoking_status  Exercise_frequency  bed_hour  \\\n",
      "0                  0.0               1                 3.0       1.0   \n",
      "1                  3.0               1                 3.0       2.0   \n",
      "2                  0.0               0                 3.0      21.5   \n",
      "3                  5.0               1                 1.0       2.5   \n",
      "4                  3.0               0                 3.0       1.0   \n",
      "\n",
      "   wake_hour  sleep_efficiency_label  \n",
      "0        7.0                       1  \n",
      "1        9.0                       0  \n",
      "2        5.5                       1  \n",
      "3        8.5                       0  \n",
      "4        9.0                       2  \n"
     ]
    }
   ],
   "source": [
    "print(data.head(5))"
   ],
   "metadata": {
    "collapsed": false,
    "ExecuteTime": {
     "end_time": "2025-10-16T13:51:23.165644300Z",
     "start_time": "2025-10-16T13:51:23.083738600Z"
    }
   },
   "id": "ff5ccd5ade66bccc"
  },
  {
   "cell_type": "code",
   "execution_count": 37,
   "outputs": [
    {
     "name": "stdout",
     "output_type": "stream",
     "text": [
      "              Age      Gender  Sleep_duration  Awakenings  \\\n",
      "count  452.000000  452.000000      452.000000  452.000000   \n",
      "mean    40.285398    0.504425        7.465708    1.612832   \n",
      "std     13.172250    0.500534        0.866625    1.332891   \n",
      "min      9.000000    0.000000        5.000000    0.000000   \n",
      "25%     29.000000    0.000000        7.000000    1.000000   \n",
      "50%     40.000000    1.000000        7.500000    1.000000   \n",
      "75%     52.000000    1.000000        8.000000    3.000000   \n",
      "max     69.000000    1.000000       10.000000    4.000000   \n",
      "\n",
      "       Caffeine_consumption  Alcohol_consumption  Smoking_status  \\\n",
      "count            452.000000           452.000000      452.000000   \n",
      "mean              23.064159             1.137168        0.340708   \n",
      "std               26.013008             1.608938        0.474472   \n",
      "min                0.000000             0.000000        0.000000   \n",
      "25%                0.000000             0.000000        0.000000   \n",
      "50%               25.000000             0.000000        0.000000   \n",
      "75%               50.000000             2.000000        1.000000   \n",
      "max              125.000000             5.000000        1.000000   \n",
      "\n",
      "       Exercise_frequency    bed_hour   wake_hour  sleep_efficiency_label  \n",
      "count          452.000000  452.000000  452.000000              452.000000  \n",
      "mean             1.794248   10.839602    7.101770                0.891593  \n",
      "std              1.418804   10.543924    1.955899                0.738081  \n",
      "min              0.000000    0.000000    3.000000                0.000000  \n",
      "25%              0.000000    1.000000    5.500000                0.000000  \n",
      "50%              2.000000    2.500000    7.000000                1.000000  \n",
      "75%              3.000000   22.000000    9.000000                1.000000  \n",
      "max              5.000000   23.000000   12.500000                2.000000  \n"
     ]
    }
   ],
   "source": [
    "print(data.describe())"
   ],
   "metadata": {
    "collapsed": false,
    "ExecuteTime": {
     "end_time": "2025-10-16T13:51:23.165644300Z",
     "start_time": "2025-10-16T13:51:23.090367700Z"
    }
   },
   "id": "7f202b0f62063818"
  },
  {
   "cell_type": "code",
   "execution_count": 38,
   "outputs": [
    {
     "data": {
      "text/plain": "sleep_efficiency_label\n1    201\n0    150\n2    101\nName: count, dtype: int64"
     },
     "execution_count": 38,
     "metadata": {},
     "output_type": "execute_result"
    }
   ],
   "source": [
    "data['sleep_efficiency_label'].value_counts()"
   ],
   "metadata": {
    "collapsed": false,
    "ExecuteTime": {
     "end_time": "2025-10-16T13:51:23.165644300Z",
     "start_time": "2025-10-16T13:51:23.121692200Z"
    }
   },
   "id": "573caa71737ca4a8"
  },
  {
   "cell_type": "code",
   "execution_count": 39,
   "outputs": [
    {
     "data": {
      "text/plain": "np.int64(0)"
     },
     "execution_count": 39,
     "metadata": {},
     "output_type": "execute_result"
    }
   ],
   "source": [
    "data['sleep_efficiency_label'].isnull().sum()"
   ],
   "metadata": {
    "collapsed": false,
    "ExecuteTime": {
     "end_time": "2025-10-16T13:51:23.165644300Z",
     "start_time": "2025-10-16T13:51:23.128171700Z"
    }
   },
   "id": "a5f413a6795439b2"
  },
  {
   "cell_type": "code",
   "execution_count": 40,
   "outputs": [
    {
     "data": {
      "text/plain": "Sleep_duration\n7.0     154\n8.0     103\n7.5      88\n6.0      34\n8.5      28\n9.0      26\n10.0      8\n5.0       8\n5.5       3\nName: count, dtype: int64"
     },
     "execution_count": 40,
     "metadata": {},
     "output_type": "execute_result"
    }
   ],
   "source": [
    "data['Sleep_duration'].value_counts()"
   ],
   "metadata": {
    "collapsed": false,
    "ExecuteTime": {
     "end_time": "2025-10-16T13:51:23.169692200Z",
     "start_time": "2025-10-16T13:51:23.137474500Z"
    }
   },
   "id": "79ef9a3bbe513002"
  },
  {
   "cell_type": "code",
   "execution_count": 41,
   "outputs": [
    {
     "data": {
      "text/plain": "np.int64(0)"
     },
     "execution_count": 41,
     "metadata": {},
     "output_type": "execute_result"
    }
   ],
   "source": [
    "data['Sleep_duration'].isnull().sum()"
   ],
   "metadata": {
    "collapsed": false,
    "ExecuteTime": {
     "end_time": "2025-10-16T13:51:23.179933800Z",
     "start_time": "2025-10-16T13:51:23.146780Z"
    }
   },
   "id": "cecc80e8cc66ee1f"
  },
  {
   "cell_type": "code",
   "execution_count": 42,
   "outputs": [
    {
     "data": {
      "text/plain": "Age\n27    19\n52    19\n37    18\n40    17\n29    17\n      ..\n10     1\n13     1\n67     1\n17     1\n12     1\nName: count, Length: 61, dtype: int64"
     },
     "execution_count": 42,
     "metadata": {},
     "output_type": "execute_result"
    }
   ],
   "source": [
    "data['Age'].value_counts()"
   ],
   "metadata": {
    "collapsed": false,
    "ExecuteTime": {
     "end_time": "2025-10-16T13:51:23.182936200Z",
     "start_time": "2025-10-16T13:51:23.155355500Z"
    }
   },
   "id": "3e9225e5a7d465c7"
  },
  {
   "cell_type": "code",
   "execution_count": 43,
   "outputs": [
    {
     "data": {
      "text/plain": "count    452.000000\nmean      40.285398\nstd       13.172250\nmin        9.000000\n25%       29.000000\n50%       40.000000\n75%       52.000000\nmax       69.000000\nName: Age, dtype: float64"
     },
     "execution_count": 43,
     "metadata": {},
     "output_type": "execute_result"
    }
   ],
   "source": [
    "data['Age'].describe()"
   ],
   "metadata": {
    "collapsed": false,
    "ExecuteTime": {
     "end_time": "2025-10-16T13:51:23.184947300Z",
     "start_time": "2025-10-16T13:51:23.169692200Z"
    }
   },
   "id": "c2f221cbbc233890"
  },
  {
   "cell_type": "code",
   "execution_count": 44,
   "outputs": [
    {
     "data": {
      "text/plain": "   Age  Gender  Sleep_duration  Awakenings  Caffeine_consumption  \\\n0   65       0             6.0         0.0                   0.0   \n1   69       1             7.0         3.0                   0.0   \n2   40       0             8.0         1.0                   0.0   \n3   40       0             6.0         3.0                  50.0   \n4   57       1             8.0         3.0                   0.0   \n\n   Alcohol_consumption  Smoking_status  Exercise_frequency  bed_hour  \\\n0                  0.0               1                 3.0       1.0   \n1                  3.0               1                 3.0       2.0   \n2                  0.0               0                 3.0      21.5   \n3                  5.0               1                 1.0       2.5   \n4                  3.0               0                 3.0       1.0   \n\n   wake_hour  sleep_efficiency_label  \n0        7.0                       1  \n1        9.0                       0  \n2        5.5                       1  \n3        8.5                       0  \n4        9.0                       2  ",
      "text/html": "<div>\n<style scoped>\n    .dataframe tbody tr th:only-of-type {\n        vertical-align: middle;\n    }\n\n    .dataframe tbody tr th {\n        vertical-align: top;\n    }\n\n    .dataframe thead th {\n        text-align: right;\n    }\n</style>\n<table border=\"1\" class=\"dataframe\">\n  <thead>\n    <tr style=\"text-align: right;\">\n      <th></th>\n      <th>Age</th>\n      <th>Gender</th>\n      <th>Sleep_duration</th>\n      <th>Awakenings</th>\n      <th>Caffeine_consumption</th>\n      <th>Alcohol_consumption</th>\n      <th>Smoking_status</th>\n      <th>Exercise_frequency</th>\n      <th>bed_hour</th>\n      <th>wake_hour</th>\n      <th>sleep_efficiency_label</th>\n    </tr>\n  </thead>\n  <tbody>\n    <tr>\n      <th>0</th>\n      <td>65</td>\n      <td>0</td>\n      <td>6.0</td>\n      <td>0.0</td>\n      <td>0.0</td>\n      <td>0.0</td>\n      <td>1</td>\n      <td>3.0</td>\n      <td>1.0</td>\n      <td>7.0</td>\n      <td>1</td>\n    </tr>\n    <tr>\n      <th>1</th>\n      <td>69</td>\n      <td>1</td>\n      <td>7.0</td>\n      <td>3.0</td>\n      <td>0.0</td>\n      <td>3.0</td>\n      <td>1</td>\n      <td>3.0</td>\n      <td>2.0</td>\n      <td>9.0</td>\n      <td>0</td>\n    </tr>\n    <tr>\n      <th>2</th>\n      <td>40</td>\n      <td>0</td>\n      <td>8.0</td>\n      <td>1.0</td>\n      <td>0.0</td>\n      <td>0.0</td>\n      <td>0</td>\n      <td>3.0</td>\n      <td>21.5</td>\n      <td>5.5</td>\n      <td>1</td>\n    </tr>\n    <tr>\n      <th>3</th>\n      <td>40</td>\n      <td>0</td>\n      <td>6.0</td>\n      <td>3.0</td>\n      <td>50.0</td>\n      <td>5.0</td>\n      <td>1</td>\n      <td>1.0</td>\n      <td>2.5</td>\n      <td>8.5</td>\n      <td>0</td>\n    </tr>\n    <tr>\n      <th>4</th>\n      <td>57</td>\n      <td>1</td>\n      <td>8.0</td>\n      <td>3.0</td>\n      <td>0.0</td>\n      <td>3.0</td>\n      <td>0</td>\n      <td>3.0</td>\n      <td>1.0</td>\n      <td>9.0</td>\n      <td>2</td>\n    </tr>\n  </tbody>\n</table>\n</div>"
     },
     "execution_count": 44,
     "metadata": {},
     "output_type": "execute_result"
    }
   ],
   "source": [
    "data.head(5)    "
   ],
   "metadata": {
    "collapsed": false,
    "ExecuteTime": {
     "end_time": "2025-10-16T13:51:23.195675800Z",
     "start_time": "2025-10-16T13:51:23.178935900Z"
    }
   },
   "id": "d9dcd328a367d78f"
  },
  {
   "cell_type": "code",
   "execution_count": 45,
   "outputs": [],
   "source": [
    "# data['sleep_efficiency_label'].isnull().sum()\n",
    "# data = data.drop(columns=['bed_dayofweek'])"
   ],
   "metadata": {
    "collapsed": false,
    "ExecuteTime": {
     "end_time": "2025-10-16T13:51:23.202994500Z",
     "start_time": "2025-10-16T13:51:23.193816300Z"
    }
   },
   "id": "2ed3d282173d49b8"
  },
  {
   "cell_type": "code",
   "execution_count": 46,
   "outputs": [],
   "source": [
    "# import seaborn as sns\n",
    "# import matplotlib.pyplot as plt\n",
    "# \n",
    "# corr = data.corr(numeric_only=True)\n",
    "# plt.figure(figsize=(10,8))\n",
    "# sns.heatmap(corr, annot=True, cmap='coolwarm', fmt=\".2f\")\n",
    "# plt.title(\"Корреляционная матрица признаков\")\n",
    "# plt.show()"
   ],
   "metadata": {
    "collapsed": false,
    "ExecuteTime": {
     "end_time": "2025-10-16T13:51:23.308165800Z",
     "start_time": "2025-10-16T13:51:23.198685200Z"
    }
   },
   "id": "f693cc5ddf4afdec"
  },
  {
   "cell_type": "code",
   "execution_count": 46,
   "outputs": [],
   "source": [],
   "metadata": {
    "collapsed": false,
    "ExecuteTime": {
     "end_time": "2025-10-16T13:51:23.308165800Z",
     "start_time": "2025-10-16T13:51:23.208213200Z"
    }
   },
   "id": "cb14daa1c4de621f"
  },
  {
   "cell_type": "code",
   "execution_count": 47,
   "outputs": [],
   "source": [
    "# import seaborn as sns\n",
    "# import matplotlib.pyplot as plt\n",
    "# \n",
    "# corr = data.corr(numeric_only=True)\n",
    "# plt.figure(figsize=(10,8))\n",
    "# sns.heatmap(corr, annot=True, cmap='coolwarm', fmt=\".2f\")\n",
    "# plt.title(\"Корреляционная матрица признаков\")\n",
    "# plt.show()"
   ],
   "metadata": {
    "collapsed": false,
    "ExecuteTime": {
     "end_time": "2025-10-16T13:51:23.308165800Z",
     "start_time": "2025-10-16T13:51:23.211892900Z"
    }
   },
   "id": "a205e6390def5b46"
  },
  {
   "cell_type": "code",
   "execution_count": 48,
   "outputs": [],
   "source": [
    "# cols = ['Sleep duration', 'Caffeine consumption', 'Alcohol consumption', \n",
    "#         'Smoking status', 'Exercise frequency']\n",
    "# data.rename(columns={col: col.replace(\" \", \"_\") for col in cols}, inplace=True)\n"
   ],
   "metadata": {
    "collapsed": false,
    "ExecuteTime": {
     "end_time": "2025-10-16T13:51:23.308165800Z",
     "start_time": "2025-10-16T13:51:23.214913100Z"
    }
   },
   "id": "854052f0a02ce6c8"
  },
  {
   "cell_type": "code",
   "execution_count": 49,
   "outputs": [],
   "source": [
    "# data.head(5)"
   ],
   "metadata": {
    "collapsed": false,
    "ExecuteTime": {
     "end_time": "2025-10-16T13:51:23.308165800Z",
     "start_time": "2025-10-16T13:51:23.220923900Z"
    }
   },
   "id": "7a25e490e70751bc"
  },
  {
   "cell_type": "code",
   "execution_count": 50,
   "outputs": [],
   "source": [
    "# import os\n",
    "# processed_dir = \"C:/Users/Asus/Desktop/sleep_quality/Data/processed_data\"\n",
    "# csv_path = os.path.join(processed_dir, \"Sleep_Efficiency_clear_no_collinearity_NO_REM.csv\")\n",
    "# data.to_csv(csv_path, index=False)\n",
    "# print(f\"Данные сохранены:\\nCSV → {csv_path}\")"
   ],
   "metadata": {
    "collapsed": false,
    "ExecuteTime": {
     "end_time": "2025-10-16T13:51:23.308165800Z",
     "start_time": "2025-10-16T13:51:23.229832100Z"
    }
   },
   "id": "178bd4549f71f22b"
  }
 ],
 "metadata": {
  "kernelspec": {
   "display_name": "Python 3",
   "language": "python",
   "name": "python3"
  },
  "language_info": {
   "codemirror_mode": {
    "name": "ipython",
    "version": 2
   },
   "file_extension": ".py",
   "mimetype": "text/x-python",
   "name": "python",
   "nbconvert_exporter": "python",
   "pygments_lexer": "ipython2",
   "version": "2.7.6"
  }
 },
 "nbformat": 4,
 "nbformat_minor": 5
}
